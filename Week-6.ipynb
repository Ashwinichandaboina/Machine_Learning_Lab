{
 "cells": [
  {
   "cell_type": "raw",
   "id": "548fb4f7-8b0b-4c1c-b485-65f228775f9f",
   "metadata": {},
   "source": [
    "import "
   ]
  },
  {
   "cell_type": "code",
   "execution_count": 1,
   "id": "6df04e0c-5a13-4e8e-afa0-dfd1cba2cd4d",
   "metadata": {},
   "outputs": [],
   "source": [
    "import pandas as pd\n",
    "import numpy as np\n",
    "import matplotlib.pyplot as plt\n",
    "import seaborn as sns"
   ]
  },
  {
   "cell_type": "code",
   "execution_count": 2,
   "id": "318d76b7-a293-45c8-b34c-492e6d4c895b",
   "metadata": {},
   "outputs": [],
   "source": [
    "train_data=pd.read_csv(\"newsgroups_train.csv\")"
   ]
  },
  {
   "cell_type": "code",
   "execution_count": 3,
   "id": "5ea7adbf-5a98-4a3f-8f01-3f93e42a4460",
   "metadata": {},
   "outputs": [],
   "source": [
    "test_data=pd.read_csv(\"newsgroups_test.csv\")"
   ]
  },
  {
   "cell_type": "code",
   "execution_count": 4,
   "id": "d4cf9015-d307-4566-a420-86fd3b9d9403",
   "metadata": {},
   "outputs": [
    {
     "data": {
      "text/html": [
       "<div>\n",
       "<style scoped>\n",
       "    .dataframe tbody tr th:only-of-type {\n",
       "        vertical-align: middle;\n",
       "    }\n",
       "\n",
       "    .dataframe tbody tr th {\n",
       "        vertical-align: top;\n",
       "    }\n",
       "\n",
       "    .dataframe thead th {\n",
       "        text-align: right;\n",
       "    }\n",
       "</style>\n",
       "<table border=\"1\" class=\"dataframe\">\n",
       "  <thead>\n",
       "    <tr style=\"text-align: right;\">\n",
       "      <th></th>\n",
       "      <th>text</th>\n",
       "      <th>target</th>\n",
       "      <th>category</th>\n",
       "    </tr>\n",
       "  </thead>\n",
       "  <tbody>\n",
       "    <tr>\n",
       "      <th>0</th>\n",
       "      <td>From: degroff@netcom.com (21012d)\\nSubject: Re...</td>\n",
       "      <td>2</td>\n",
       "      <td>sci.space</td>\n",
       "    </tr>\n",
       "    <tr>\n",
       "      <th>1</th>\n",
       "      <td>From: ab@nova.cc.purdue.edu (Allen B)\\nSubject...</td>\n",
       "      <td>1</td>\n",
       "      <td>comp.graphics</td>\n",
       "    </tr>\n",
       "    <tr>\n",
       "      <th>2</th>\n",
       "      <td>From: healta@saturn.wwc.edu (Tammy R Healy)\\nS...</td>\n",
       "      <td>0</td>\n",
       "      <td>alt.atheism</td>\n",
       "    </tr>\n",
       "    <tr>\n",
       "      <th>3</th>\n",
       "      <td>From: capelli@vnet.IBM.COM (Ron Capelli)\\nSubj...</td>\n",
       "      <td>1</td>\n",
       "      <td>comp.graphics</td>\n",
       "    </tr>\n",
       "    <tr>\n",
       "      <th>4</th>\n",
       "      <td>From: henry@zoo.toronto.edu (Henry Spencer)\\nS...</td>\n",
       "      <td>2</td>\n",
       "      <td>sci.space</td>\n",
       "    </tr>\n",
       "  </tbody>\n",
       "</table>\n",
       "</div>"
      ],
      "text/plain": [
       "                                                text  target       category\n",
       "0  From: degroff@netcom.com (21012d)\\nSubject: Re...       2      sci.space\n",
       "1  From: ab@nova.cc.purdue.edu (Allen B)\\nSubject...       1  comp.graphics\n",
       "2  From: healta@saturn.wwc.edu (Tammy R Healy)\\nS...       0    alt.atheism\n",
       "3  From: capelli@vnet.IBM.COM (Ron Capelli)\\nSubj...       1  comp.graphics\n",
       "4  From: henry@zoo.toronto.edu (Henry Spencer)\\nS...       2      sci.space"
      ]
     },
     "execution_count": 4,
     "metadata": {},
     "output_type": "execute_result"
    }
   ],
   "source": [
    "train_data.head()"
   ]
  },
  {
   "cell_type": "code",
   "execution_count": 9,
   "id": "d54059ea-27b9-4ee1-af0a-0773fe8f3758",
   "metadata": {},
   "outputs": [],
   "source": [
    "from sklearn.datasets import fetch_20newsgroups\n",
    "cats=['alt.atheism','comp.graphics','sci.space']\n"
   ]
  },
  {
   "cell_type": "code",
   "execution_count": 11,
   "id": "0fce7bb3-77e9-4543-972f-d6d2358c3667",
   "metadata": {},
   "outputs": [],
   "source": [
    "train=fetch_20newsgroups(subset='train',categories=cats,shuffle=True,random_state=42)"
   ]
  },
  {
   "cell_type": "code",
   "execution_count": 13,
   "id": "4ba65ff3-d32d-44af-93aa-db8c2f24ad38",
   "metadata": {},
   "outputs": [],
   "source": [
    "\n",
    "\n",
    "test=fetch_20newsgroups(subset='test',categories=cats,shuffle=True,random_state=42)"
   ]
  },
  {
   "cell_type": "code",
   "execution_count": 15,
   "id": "213b90f1-8de8-4870-9fb6-127f80184e51",
   "metadata": {},
   "outputs": [
    {
     "data": {
      "text/plain": [
       "['alt.atheism', 'comp.graphics', 'sci.space']"
      ]
     },
     "execution_count": 15,
     "metadata": {},
     "output_type": "execute_result"
    }
   ],
   "source": [
    "train.target_names"
   ]
  },
  {
   "cell_type": "code",
   "execution_count": 17,
   "id": "b2b019a7-ca50-415b-bb82-12b939838c00",
   "metadata": {},
   "outputs": [
    {
     "data": {
      "text/plain": [
       "1657"
      ]
     },
     "execution_count": 17,
     "metadata": {},
     "output_type": "execute_result"
    }
   ],
   "source": [
    "len(train.data)"
   ]
  },
  {
   "cell_type": "code",
   "execution_count": 19,
   "id": "ed46b428-3095-4135-89d8-a224629f4b93",
   "metadata": {},
   "outputs": [
    {
     "data": {
      "text/plain": [
       "'From: dietz@cs.rochester.edu (Paul Dietz)\\nSubject: Commercial mining activities on the moon\\nOrganization: University of Rochester\\nLines: 38\\n\\nIn article <1993Apr20.152819.28186@ke4zv.uucp> gary@ke4zv.UUCP (Gary Coffman) writes:\\n\\n > be the site of major commercial activity. As far as we know it has no\\n > materials we can\\'t get cheaper right here on Earth or from asteroids\\n > and comets, aside from the semi-mythic He3 that *might* be useful in low\\n > grade fusion reactors.\\n\\nI don\\'t know what a \"low grade\" fusion reactor is, but the major\\nproblem with 3He (aside from the difficulty in making any fusion\\nreactor work) is that its concentration in lunar regolith is just so\\nsmall -- on the order of 5 ppb or so, on average (more in some\\nfractions, but still very small).  Massive amounts of regolith would\\nhave to be processed.\\n\\nThis thread reminds me of Wingo\\'s claims some time ago about the moon\\nas a source of titanium for use on earth.  As I recall, Wingo wasn\\'t\\ncontent with being assured that titanium (at .5% in the Earth\\'s crust,\\naverage) would not run out, and touted lunar mines, even though the\\nmarket price of ilmenite concentrate these days is around $.06/pound.\\nThis prompted me to look up large potential terrestrial sources.\\n\\nOn the moon, titanium occurs in basalts; \"high-Ti\" basalts (Apollo 11\\nand 17) have 8-14% titanium dioxide (by weight).  This is nice, but...\\nterrestrial continental flood basalts are also typically enriched in\\ntitanium.  They very often have 3% TiO2, frequently have 4%, and\\nsometimes even 5% TiO2 (again, by weight).  These flood basalts are\\n*enormous* -- millions of cubic kilometers, scattered all over the\\nworld (Siberia, Brazil, the NW United States, Ethiopia, etc.).  If\\neven 1% of the basalts are 5% TiO2, this is trillions of tons of TiO2\\nat concentrations only a factor of 2-3 less than in lunar high-Ti\\nbasalts.  It is difficult to see how the disadvantages of the moon\\ncould be overcome by such a small increase the concentration of the\\nore (never mind the richer, but less common, terrestrial ores being\\nmined today).\\n\\n\\tPaul F. Dietz\\n\\tdietz@cs.rochester.edu\\n\\n'"
      ]
     },
     "execution_count": 19,
     "metadata": {},
     "output_type": "execute_result"
    }
   ],
   "source": [
    "train.data[5]"
   ]
  },
  {
   "cell_type": "code",
   "execution_count": 21,
   "id": "17f3949d-ae65-48c8-90fb-ba265d9487c2",
   "metadata": {},
   "outputs": [
    {
     "data": {
      "text/plain": [
       "1657"
      ]
     },
     "execution_count": 21,
     "metadata": {},
     "output_type": "execute_result"
    }
   ],
   "source": [
    "len(train.data)\n"
   ]
  },
  {
   "cell_type": "code",
   "execution_count": 23,
   "id": "f452b407-aa70-416c-8265-499c214d59da",
   "metadata": {},
   "outputs": [
    {
     "data": {
      "text/plain": [
       "1657"
      ]
     },
     "execution_count": 23,
     "metadata": {},
     "output_type": "execute_result"
    }
   ],
   "source": [
    "len(train.target)"
   ]
  },
  {
   "cell_type": "code",
   "execution_count": 25,
   "id": "5462194b-eaab-4f26-9904-b1e5e6b3b8c0",
   "metadata": {},
   "outputs": [
    {
     "data": {
      "text/plain": [
       "array(['/home/user/scikit_learn_data/20news_home/20news-bydate-train/sci.space/60869',\n",
       "       '/home/user/scikit_learn_data/20news_home/20news-bydate-train/comp.graphics/38633',\n",
       "       '/home/user/scikit_learn_data/20news_home/20news-bydate-train/alt.atheism/53534',\n",
       "       ...,\n",
       "       '/home/user/scikit_learn_data/20news_home/20news-bydate-train/sci.space/60915',\n",
       "       '/home/user/scikit_learn_data/20news_home/20news-bydate-train/sci.space/60176',\n",
       "       '/home/user/scikit_learn_data/20news_home/20news-bydate-train/sci.space/60929'],\n",
       "      dtype='<U91')"
      ]
     },
     "execution_count": 25,
     "metadata": {},
     "output_type": "execute_result"
    }
   ],
   "source": [
    "train.filenames"
   ]
  },
  {
   "cell_type": "raw",
   "id": "26b7c3fe-f346-496c-8f09-30f8d33cd459",
   "metadata": {},
   "source": [
    "from sklearn.feature_extraction_"
   ]
  },
  {
   "cell_type": "code",
   "execution_count": 27,
   "id": "2268795b-670b-46bc-a809-72d828b44b6c",
   "metadata": {},
   "outputs": [],
   "source": [
    "from sklearn.feature_extraction.text import CountVectorizer,TfidfVectorizer\n",
    "from os import XATTR_CREATE\n",
    "from sklearn.naive_bayes import BernoulliNB\n",
    "cv=CountVectorizer(max_features=1000)\n",
    "train_count=cv.fit_transform(train.data)\n",
    "b=BernoulliNB()\n",
    "b.fit(train_count,train.target)\n",
    "test_count=cv.transform(test.data)\n",
    "y_pred=b.predict(test_count)"
   ]
  },
  {
   "cell_type": "code",
   "execution_count": 28,
   "id": "3a11b378-515e-494f-92eb-4d894fd0b0dc",
   "metadata": {},
   "outputs": [
    {
     "data": {
      "text/plain": [
       "array([2, 1, 1, ..., 0, 1, 2])"
      ]
     },
     "execution_count": 28,
     "metadata": {},
     "output_type": "execute_result"
    }
   ],
   "source": [
    "y_pred"
   ]
  },
  {
   "cell_type": "code",
   "execution_count": 31,
   "id": "1cc94122-549c-4ae1-a0f3-c0eee22277b1",
   "metadata": {},
   "outputs": [
    {
     "name": "stdout",
     "output_type": "stream",
     "text": [
      "0.8284936479128857\n"
     ]
    }
   ],
   "source": [
    "from sklearn.metrics import accuracy_score,confusion_matrix,classification_report\n",
    "print(accuracy_score(test.target,y_pred))"
   ]
  },
  {
   "cell_type": "code",
   "execution_count": 33,
   "id": "8e2ac1aa-e9c6-441b-8541-9c2027394a13",
   "metadata": {},
   "outputs": [],
   "source": [
    "\n",
    "from os import XATTR_CREATE\n",
    "from sklearn.naive_bayes import BernoulliNB,MultinomialNB\n",
    "tf=TfidfVectorizer(max_features=1000,stop_words='english')\n",
    "train_count=tf.fit_transform(train.data)\n",
    "m=MultinomialNB()\n",
    "m.fit(train_count,train.target)\n",
    "test_count=tf.transform(test.data)\n",
    "y_p=m.predict(test_count)"
   ]
  },
  {
   "cell_type": "code",
   "execution_count": 35,
   "id": "aae8dcee-253f-43d7-bb38-e4b6f004d827",
   "metadata": {},
   "outputs": [
    {
     "data": {
      "text/plain": [
       "array([2, 1, 1, ..., 0, 1, 2])"
      ]
     },
     "execution_count": 35,
     "metadata": {},
     "output_type": "execute_result"
    }
   ],
   "source": [
    "y_p"
   ]
  },
  {
   "cell_type": "code",
   "execution_count": 37,
   "id": "868d0dee-5c9e-4cbf-b113-4aecf21921e6",
   "metadata": {},
   "outputs": [
    {
     "name": "stdout",
     "output_type": "stream",
     "text": [
      "0.8284936479128857\n"
     ]
    }
   ],
   "source": [
    "print(accuracy_score(test.target,y_pred))"
   ]
  },
  {
   "cell_type": "code",
   "execution_count": 39,
   "id": "0ede4635-e97a-4a7f-8110-35c1f6313463",
   "metadata": {},
   "outputs": [
    {
     "data": {
      "text/plain": [
       "(1102,)"
      ]
     },
     "execution_count": 39,
     "metadata": {},
     "output_type": "execute_result"
    }
   ],
   "source": [
    "y_p.shape"
   ]
  },
  {
   "cell_type": "code",
   "execution_count": 45,
   "id": "018bb164-6cb5-45af-8a90-8c122661f9ed",
   "metadata": {},
   "outputs": [
    {
     "name": "stdout",
     "output_type": "stream",
     "text": [
      "[[260  51   8]\n",
      " [ 12 347  30]\n",
      " [ 12  76 306]]\n"
     ]
    }
   ],
   "source": [
    "print(confusion_matrix(test.target,y_pred))"
   ]
  },
  {
   "cell_type": "code",
   "execution_count": null,
   "id": "b889b4e4-da95-487d-9cfa-15a116ebd1e7",
   "metadata": {},
   "outputs": [],
   "source": [
    "sns."
   ]
  },
  {
   "cell_type": "code",
   "execution_count": null,
   "id": "87b751f4-73bd-4714-968f-55869532873c",
   "metadata": {},
   "outputs": [],
   "source": []
  }
 ],
 "metadata": {
  "kernelspec": {
   "display_name": "Python [conda env:base] *",
   "language": "python",
   "name": "conda-base-py"
  },
  "language_info": {
   "codemirror_mode": {
    "name": "ipython",
    "version": 3
   },
   "file_extension": ".py",
   "mimetype": "text/x-python",
   "name": "python",
   "nbconvert_exporter": "python",
   "pygments_lexer": "ipython3",
   "version": "3.12.7"
  }
 },
 "nbformat": 4,
 "nbformat_minor": 5
}
